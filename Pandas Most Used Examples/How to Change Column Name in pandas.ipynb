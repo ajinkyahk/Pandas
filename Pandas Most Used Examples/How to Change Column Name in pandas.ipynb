{
 "cells": [
  {
   "cell_type": "markdown",
   "metadata": {
    "application/vnd.databricks.v1+cell": {
     "cellMetadata": {},
     "inputWidgets": {},
     "nuid": "339c124a-8f66-4d17-ac20-521b570257d9",
     "showTitle": false,
     "title": ""
    }
   },
   "source": [
    "# How to Change Column Name in pandas"
   ]
  },
  {
   "cell_type": "markdown",
   "metadata": {
    "application/vnd.databricks.v1+cell": {
     "cellMetadata": {},
     "inputWidgets": {},
     "nuid": "7b3ee3db-0c17-453c-96e8-516749d14569",
     "showTitle": false,
     "title": ""
    }
   },
   "source": [
    "**You can change the column name of pandas DataFrame by using DataFrame.rename() method and DataFrame.columns() method.**\n",
    "\n",
    "- Use the pandas DataFrame.rename() function to modify specific column names.\n",
    "- Set the DataFrame columns attribute to your new list of column names."
   ]
  },
  {
   "cell_type": "code",
   "execution_count": 0,
   "metadata": {
    "application/vnd.databricks.v1+cell": {
     "cellMetadata": {
      "byteLimit": 2048000,
      "rowLimit": 10000
     },
     "inputWidgets": {},
     "nuid": "2fdb08a9-451a-46f4-80c4-d97c486a7821",
     "showTitle": false,
     "title": ""
    }
   },
   "outputs": [
    {
     "output_type": "display_data",
     "data": {
      "application/vnd.databricks.v1+bamboolib_hint": "{\"pd.DataFrames\": [], \"version\": \"0.0.1\"}",
      "text/plain": []
     },
     "metadata": {},
     "output_type": "display_data"
    }
   ],
   "source": [
    "import pandas as pd\n",
    "import numpy as np"
   ]
  },
  {
   "cell_type": "code",
   "execution_count": 0,
   "metadata": {
    "application/vnd.databricks.v1+cell": {
     "cellMetadata": {
      "byteLimit": 2048000,
      "rowLimit": 10000
     },
     "inputWidgets": {},
     "nuid": "19980bc4-cfde-4a18-85eb-2b41e58e77f3",
     "showTitle": false,
     "title": ""
    }
   },
   "outputs": [
    {
     "output_type": "stream",
     "name": "stdout",
     "output_type": "stream",
     "text": [
      "   Courses    Fee Duration\n0    Spark  22000   30days\n1  PySpark  25000   50days\n2    Spark  23000   30days\n3   Python  24000   35days\n4  PySpark  26000   60days\n"
     ]
    }
   ],
   "source": [
    "technologies= {\n",
    "    'Courses':[\"Spark\",\"PySpark\",\"Spark\",\"Python\",\"PySpark\"],\n",
    "    'Fee' :[22000,25000,23000,24000,26000],\n",
    "    'Duration':['30days','50days','30days','35days','60days']\n",
    "          }\n",
    "df = pd.DataFrame(technologies)\n",
    "print(df)"
   ]
  },
  {
   "cell_type": "code",
   "execution_count": 0,
   "metadata": {
    "application/vnd.databricks.v1+cell": {
     "cellMetadata": {
      "byteLimit": 2048000,
      "rowLimit": 10000
     },
     "inputWidgets": {},
     "nuid": "c048ada6-d63e-441b-9ab2-f6017d567a46",
     "showTitle": false,
     "title": ""
    }
   },
   "outputs": [
    {
     "output_type": "stream",
     "name": "stdout",
     "output_type": "stream",
     "text": [
      "   Courses   Fees Duration\n0    Spark  22000   30days\n1  PySpark  25000   50days\n2    Spark  23000   30days\n3   Python  24000   35days\n4  PySpark  26000   60days\n"
     ]
    }
   ],
   "source": [
    "# Syntax to change column name using rename() function.\n",
    "df.rename(columns={'Fee':'Fees'}, inplace=True)\n",
    "print(df)"
   ]
  },
  {
   "cell_type": "code",
   "execution_count": 0,
   "metadata": {
    "application/vnd.databricks.v1+cell": {
     "cellMetadata": {
      "byteLimit": 2048000,
      "rowLimit": 10000
     },
     "inputWidgets": {},
     "nuid": "901570c2-076f-40c1-a501-9b555b86eae2",
     "showTitle": false,
     "title": ""
    }
   },
   "outputs": [
    {
     "output_type": "stream",
     "name": "stdout",
     "output_type": "stream",
     "text": [
      "  Courses_Name  CourseFee CourseDuration\n0        Spark      22000         30days\n1      PySpark      25000         50days\n2        Spark      23000         30days\n3       Python      24000         35days\n4      PySpark      26000         60days\n"
     ]
    }
   ],
   "source": [
    "# Renaming Multiple columns.\n",
    "df.rename({'Courses':'Courses_Name', 'Fees':'CourseFee', 'Duration':'CourseDuration'}, axis='columns', inplace=True)\n",
    "print(df)"
   ]
  },
  {
   "cell_type": "code",
   "execution_count": 0,
   "metadata": {
    "application/vnd.databricks.v1+cell": {
     "cellMetadata": {
      "byteLimit": 2048000,
      "rowLimit": 10000
     },
     "inputWidgets": {},
     "nuid": "93d20326-5661-4e07-85f7-95f2638a6bb8",
     "showTitle": false,
     "title": ""
    }
   },
   "outputs": [
    {
     "output_type": "stream",
     "name": "stdout",
     "output_type": "stream",
     "text": [
      "  Courses_Name:  CourseFee: CourseDuration:\n0         Spark       22000          30days\n1       PySpark       25000          50days\n2         Spark       23000          30days\n3        Python       24000          35days\n4       PySpark       26000          60days\n"
     ]
    }
   ],
   "source": [
    "# Change column name using rename() and lambda function.\n",
    "df2 = df.rename(columns=lambda x: x+':')\n",
    "print(df2)"
   ]
  },
  {
   "cell_type": "code",
   "execution_count": 0,
   "metadata": {
    "application/vnd.databricks.v1+cell": {
     "cellMetadata": {
      "byteLimit": 2048000,
      "rowLimit": 10000
     },
     "inputWidgets": {},
     "nuid": "c7d5b7bd-361e-4c28-80d8-ec5d7e8c2b25",
     "showTitle": false,
     "title": ""
    }
   },
   "outputs": [
    {
     "output_type": "stream",
     "name": "stdout",
     "output_type": "stream",
     "text": [
      "    Course  CourseFee CourseDuration\n0    Spark      22000         30days\n1  PySpark      25000         50days\n2    Spark      23000         30days\n3   Python      24000         35days\n4  PySpark      26000         60days\n"
     ]
    }
   ],
   "source": [
    "# Changing Column Attribute.\n",
    "df.columns.values[0]='Course'\n",
    "print(df)"
   ]
  },
  {
   "cell_type": "code",
   "execution_count": 0,
   "metadata": {
    "application/vnd.databricks.v1+cell": {
     "cellMetadata": {
      "byteLimit": 2048000,
      "rowLimit": 10000
     },
     "inputWidgets": {},
     "nuid": "bf355b76-180d-4454-a56e-bb6f7c2b8731",
     "showTitle": false,
     "title": ""
    }
   },
   "outputs": [
    {
     "output_type": "stream",
     "name": "stdout",
     "output_type": "stream",
     "text": [
      "Index(['Course', 'CourseFee', 'CourseDuration'], dtype='object')\n   Courses    Fee Duration\n0    Spark  22000   30days\n1  PySpark  25000   50days\n2    Spark  23000   30days\n3   Python  24000   35days\n4  PySpark  26000   60days\n"
     ]
    }
   ],
   "source": [
    "print(df.columns)\n",
    "df.columns = technologies\n",
    "print(df)"
   ]
  },
  {
   "cell_type": "code",
   "execution_count": 0,
   "metadata": {
    "application/vnd.databricks.v1+cell": {
     "cellMetadata": {
      "byteLimit": 2048000,
      "rowLimit": 10000
     },
     "inputWidgets": {},
     "nuid": "33f89ce9-d70a-49a5-a274-c9a4e03a8cff",
     "showTitle": false,
     "title": ""
    }
   },
   "outputs": [
    {
     "output_type": "stream",
     "name": "stdout",
     "output_type": "stream",
     "text": [
      "  Course_Name    Fee Duration\n0       Spark  22000   30days\n1     PySpark  25000   50days\n2       Spark  23000   30days\n3      Python  24000   35days\n4     PySpark  26000   60days\n"
     ]
    }
   ],
   "source": [
    "# Using DataFrame.column.str.replace() Method.\n",
    "df.columns.values[0] = 'Course Name'\n",
    "df.columns = df.columns.str.replace(' ', '_', regex=True)\n",
    "print(df)"
   ]
  },
  {
   "cell_type": "code",
   "execution_count": 0,
   "metadata": {
    "application/vnd.databricks.v1+cell": {
     "cellMetadata": {
      "byteLimit": 2048000,
      "rowLimit": 10000
     },
     "inputWidgets": {},
     "nuid": "17bd642d-02ca-4809-8781-630ee4e9a038",
     "showTitle": false,
     "title": ""
    }
   },
   "outputs": [
    {
     "output_type": "stream",
     "name": "stdout",
     "output_type": "stream",
     "text": [
      "  Course_Name    Fee Duration\n0       Spark  22000   30days\n1     PySpark  25000   50days\n2       Spark  23000   30days\n3      Python  24000   35days\n4     PySpark  26000   60days\n"
     ]
    }
   ],
   "source": [
    "# NO Error is raised.\n",
    "df2 = df.rename(columns={'Courses':'EmpCourses'})\n",
    "print(df2)"
   ]
  },
  {
   "cell_type": "code",
   "execution_count": 0,
   "metadata": {
    "application/vnd.databricks.v1+cell": {
     "cellMetadata": {
      "byteLimit": 2048000,
      "rowLimit": 10000
     },
     "inputWidgets": {},
     "nuid": "3c9ddca5-ef9b-4662-b2e5-8d5c5035ad72",
     "showTitle": false,
     "title": ""
    }
   },
   "outputs": [
    {
     "output_type": "display_data",
     "data": {
      "text/plain": [
       "\u001B[0;31m---------------------------------------------------------------------------\u001B[0m\n",
       "\u001B[0;31mKeyError\u001B[0m                                  Traceback (most recent call last)\n",
       "File \u001B[0;32m<command-4482978898930639>:2\u001B[0m\n",
       "\u001B[1;32m      1\u001B[0m \u001B[38;5;66;03m# Errors parameter to 'raise'.\u001B[39;00m\n",
       "\u001B[0;32m----> 2\u001B[0m df2 \u001B[38;5;241m=\u001B[39m df\u001B[38;5;241m.\u001B[39mrename(columns\u001B[38;5;241m=\u001B[39m{\u001B[38;5;124m'\u001B[39m\u001B[38;5;124mCourses\u001B[39m\u001B[38;5;124m'\u001B[39m:\u001B[38;5;124m'\u001B[39m\u001B[38;5;124mEmpCourses\u001B[39m\u001B[38;5;124m'\u001B[39m}, errors\u001B[38;5;241m=\u001B[39m\u001B[38;5;124m'\u001B[39m\u001B[38;5;124mraise\u001B[39m\u001B[38;5;124m'\u001B[39m)\n",
       "\u001B[1;32m      3\u001B[0m \u001B[38;5;28mprint\u001B[39m(df2)\n",
       "\n",
       "File \u001B[0;32m/databricks/python/lib/python3.9/site-packages/pandas/core/frame.py:5083\u001B[0m, in \u001B[0;36mDataFrame.rename\u001B[0;34m(self, mapper, index, columns, axis, copy, inplace, level, errors)\u001B[0m\n",
       "\u001B[1;32m   4964\u001B[0m \u001B[38;5;28;01mdef\u001B[39;00m \u001B[38;5;21mrename\u001B[39m(\n",
       "\u001B[1;32m   4965\u001B[0m     \u001B[38;5;28mself\u001B[39m,\n",
       "\u001B[1;32m   4966\u001B[0m     mapper: Renamer \u001B[38;5;241m|\u001B[39m \u001B[38;5;28;01mNone\u001B[39;00m \u001B[38;5;241m=\u001B[39m \u001B[38;5;28;01mNone\u001B[39;00m,\n",
       "\u001B[0;32m   (...)\u001B[0m\n",
       "\u001B[1;32m   4974\u001B[0m     errors: \u001B[38;5;28mstr\u001B[39m \u001B[38;5;241m=\u001B[39m \u001B[38;5;124m\"\u001B[39m\u001B[38;5;124mignore\u001B[39m\u001B[38;5;124m\"\u001B[39m,\n",
       "\u001B[1;32m   4975\u001B[0m ) \u001B[38;5;241m-\u001B[39m\u001B[38;5;241m>\u001B[39m DataFrame \u001B[38;5;241m|\u001B[39m \u001B[38;5;28;01mNone\u001B[39;00m:\n",
       "\u001B[1;32m   4976\u001B[0m     \u001B[38;5;124;03m\"\"\"\u001B[39;00m\n",
       "\u001B[1;32m   4977\u001B[0m \u001B[38;5;124;03m    Alter axes labels.\u001B[39;00m\n",
       "\u001B[1;32m   4978\u001B[0m \n",
       "\u001B[0;32m   (...)\u001B[0m\n",
       "\u001B[1;32m   5081\u001B[0m \u001B[38;5;124;03m    4  3  6\u001B[39;00m\n",
       "\u001B[1;32m   5082\u001B[0m \u001B[38;5;124;03m    \"\"\"\u001B[39;00m\n",
       "\u001B[0;32m-> 5083\u001B[0m     \u001B[38;5;28;01mreturn\u001B[39;00m \u001B[38;5;28;43msuper\u001B[39;49m\u001B[43m(\u001B[49m\u001B[43m)\u001B[49m\u001B[38;5;241;43m.\u001B[39;49m\u001B[43m_rename\u001B[49m\u001B[43m(\u001B[49m\n",
       "\u001B[1;32m   5084\u001B[0m \u001B[43m        \u001B[49m\u001B[43mmapper\u001B[49m\u001B[38;5;241;43m=\u001B[39;49m\u001B[43mmapper\u001B[49m\u001B[43m,\u001B[49m\n",
       "\u001B[1;32m   5085\u001B[0m \u001B[43m        \u001B[49m\u001B[43mindex\u001B[49m\u001B[38;5;241;43m=\u001B[39;49m\u001B[43mindex\u001B[49m\u001B[43m,\u001B[49m\n",
       "\u001B[1;32m   5086\u001B[0m \u001B[43m        \u001B[49m\u001B[43mcolumns\u001B[49m\u001B[38;5;241;43m=\u001B[39;49m\u001B[43mcolumns\u001B[49m\u001B[43m,\u001B[49m\n",
       "\u001B[1;32m   5087\u001B[0m \u001B[43m        \u001B[49m\u001B[43maxis\u001B[49m\u001B[38;5;241;43m=\u001B[39;49m\u001B[43maxis\u001B[49m\u001B[43m,\u001B[49m\n",
       "\u001B[1;32m   5088\u001B[0m \u001B[43m        \u001B[49m\u001B[43mcopy\u001B[49m\u001B[38;5;241;43m=\u001B[39;49m\u001B[43mcopy\u001B[49m\u001B[43m,\u001B[49m\n",
       "\u001B[1;32m   5089\u001B[0m \u001B[43m        \u001B[49m\u001B[43minplace\u001B[49m\u001B[38;5;241;43m=\u001B[39;49m\u001B[43minplace\u001B[49m\u001B[43m,\u001B[49m\n",
       "\u001B[1;32m   5090\u001B[0m \u001B[43m        \u001B[49m\u001B[43mlevel\u001B[49m\u001B[38;5;241;43m=\u001B[39;49m\u001B[43mlevel\u001B[49m\u001B[43m,\u001B[49m\n",
       "\u001B[1;32m   5091\u001B[0m \u001B[43m        \u001B[49m\u001B[43merrors\u001B[49m\u001B[38;5;241;43m=\u001B[39;49m\u001B[43merrors\u001B[49m\u001B[43m,\u001B[49m\n",
       "\u001B[1;32m   5092\u001B[0m \u001B[43m    \u001B[49m\u001B[43m)\u001B[49m\n",
       "\n",
       "File \u001B[0;32m/databricks/python/lib/python3.9/site-packages/pandas/core/generic.py:1153\u001B[0m, in \u001B[0;36mNDFrame._rename\u001B[0;34m(self, mapper, index, columns, axis, copy, inplace, level, errors)\u001B[0m\n",
       "\u001B[1;32m   1147\u001B[0m     \u001B[38;5;28;01mif\u001B[39;00m errors \u001B[38;5;241m==\u001B[39m \u001B[38;5;124m\"\u001B[39m\u001B[38;5;124mraise\u001B[39m\u001B[38;5;124m\"\u001B[39m \u001B[38;5;129;01mand\u001B[39;00m \u001B[38;5;28mlen\u001B[39m(indexer[indexer \u001B[38;5;241m==\u001B[39m \u001B[38;5;241m-\u001B[39m\u001B[38;5;241m1\u001B[39m]):\n",
       "\u001B[1;32m   1148\u001B[0m         missing_labels \u001B[38;5;241m=\u001B[39m [\n",
       "\u001B[1;32m   1149\u001B[0m             label\n",
       "\u001B[1;32m   1150\u001B[0m             \u001B[38;5;28;01mfor\u001B[39;00m index, label \u001B[38;5;129;01min\u001B[39;00m \u001B[38;5;28menumerate\u001B[39m(replacements)\n",
       "\u001B[1;32m   1151\u001B[0m             \u001B[38;5;28;01mif\u001B[39;00m indexer[index] \u001B[38;5;241m==\u001B[39m \u001B[38;5;241m-\u001B[39m\u001B[38;5;241m1\u001B[39m\n",
       "\u001B[1;32m   1152\u001B[0m         ]\n",
       "\u001B[0;32m-> 1153\u001B[0m         \u001B[38;5;28;01mraise\u001B[39;00m \u001B[38;5;167;01mKeyError\u001B[39;00m(\u001B[38;5;124mf\u001B[39m\u001B[38;5;124m\"\u001B[39m\u001B[38;5;132;01m{\u001B[39;00mmissing_labels\u001B[38;5;132;01m}\u001B[39;00m\u001B[38;5;124m not found in axis\u001B[39m\u001B[38;5;124m\"\u001B[39m)\n",
       "\u001B[1;32m   1155\u001B[0m new_index \u001B[38;5;241m=\u001B[39m ax\u001B[38;5;241m.\u001B[39m_transform_index(f, level\u001B[38;5;241m=\u001B[39mlevel)\n",
       "\u001B[1;32m   1156\u001B[0m result\u001B[38;5;241m.\u001B[39m_set_axis_nocheck(new_index, axis\u001B[38;5;241m=\u001B[39maxis_no, inplace\u001B[38;5;241m=\u001B[39m\u001B[38;5;28;01mTrue\u001B[39;00m)\n",
       "\n",
       "\u001B[0;31mKeyError\u001B[0m: \"['Courses'] not found in axis\""
      ]
     },
     "metadata": {
      "application/vnd.databricks.v1+output": {
       "arguments": {},
       "data": "\u001B[0;31m---------------------------------------------------------------------------\u001B[0m\n\u001B[0;31mKeyError\u001B[0m                                  Traceback (most recent call last)\nFile \u001B[0;32m<command-4482978898930639>:2\u001B[0m\n\u001B[1;32m      1\u001B[0m \u001B[38;5;66;03m# Errors parameter to 'raise'.\u001B[39;00m\n\u001B[0;32m----> 2\u001B[0m df2 \u001B[38;5;241m=\u001B[39m df\u001B[38;5;241m.\u001B[39mrename(columns\u001B[38;5;241m=\u001B[39m{\u001B[38;5;124m'\u001B[39m\u001B[38;5;124mCourses\u001B[39m\u001B[38;5;124m'\u001B[39m:\u001B[38;5;124m'\u001B[39m\u001B[38;5;124mEmpCourses\u001B[39m\u001B[38;5;124m'\u001B[39m}, errors\u001B[38;5;241m=\u001B[39m\u001B[38;5;124m'\u001B[39m\u001B[38;5;124mraise\u001B[39m\u001B[38;5;124m'\u001B[39m)\n\u001B[1;32m      3\u001B[0m \u001B[38;5;28mprint\u001B[39m(df2)\n\nFile \u001B[0;32m/databricks/python/lib/python3.9/site-packages/pandas/core/frame.py:5083\u001B[0m, in \u001B[0;36mDataFrame.rename\u001B[0;34m(self, mapper, index, columns, axis, copy, inplace, level, errors)\u001B[0m\n\u001B[1;32m   4964\u001B[0m \u001B[38;5;28;01mdef\u001B[39;00m \u001B[38;5;21mrename\u001B[39m(\n\u001B[1;32m   4965\u001B[0m     \u001B[38;5;28mself\u001B[39m,\n\u001B[1;32m   4966\u001B[0m     mapper: Renamer \u001B[38;5;241m|\u001B[39m \u001B[38;5;28;01mNone\u001B[39;00m \u001B[38;5;241m=\u001B[39m \u001B[38;5;28;01mNone\u001B[39;00m,\n\u001B[0;32m   (...)\u001B[0m\n\u001B[1;32m   4974\u001B[0m     errors: \u001B[38;5;28mstr\u001B[39m \u001B[38;5;241m=\u001B[39m \u001B[38;5;124m\"\u001B[39m\u001B[38;5;124mignore\u001B[39m\u001B[38;5;124m\"\u001B[39m,\n\u001B[1;32m   4975\u001B[0m ) \u001B[38;5;241m-\u001B[39m\u001B[38;5;241m>\u001B[39m DataFrame \u001B[38;5;241m|\u001B[39m \u001B[38;5;28;01mNone\u001B[39;00m:\n\u001B[1;32m   4976\u001B[0m     \u001B[38;5;124;03m\"\"\"\u001B[39;00m\n\u001B[1;32m   4977\u001B[0m \u001B[38;5;124;03m    Alter axes labels.\u001B[39;00m\n\u001B[1;32m   4978\u001B[0m \n\u001B[0;32m   (...)\u001B[0m\n\u001B[1;32m   5081\u001B[0m \u001B[38;5;124;03m    4  3  6\u001B[39;00m\n\u001B[1;32m   5082\u001B[0m \u001B[38;5;124;03m    \"\"\"\u001B[39;00m\n\u001B[0;32m-> 5083\u001B[0m     \u001B[38;5;28;01mreturn\u001B[39;00m \u001B[38;5;28;43msuper\u001B[39;49m\u001B[43m(\u001B[49m\u001B[43m)\u001B[49m\u001B[38;5;241;43m.\u001B[39;49m\u001B[43m_rename\u001B[49m\u001B[43m(\u001B[49m\n\u001B[1;32m   5084\u001B[0m \u001B[43m        \u001B[49m\u001B[43mmapper\u001B[49m\u001B[38;5;241;43m=\u001B[39;49m\u001B[43mmapper\u001B[49m\u001B[43m,\u001B[49m\n\u001B[1;32m   5085\u001B[0m \u001B[43m        \u001B[49m\u001B[43mindex\u001B[49m\u001B[38;5;241;43m=\u001B[39;49m\u001B[43mindex\u001B[49m\u001B[43m,\u001B[49m\n\u001B[1;32m   5086\u001B[0m \u001B[43m        \u001B[49m\u001B[43mcolumns\u001B[49m\u001B[38;5;241;43m=\u001B[39;49m\u001B[43mcolumns\u001B[49m\u001B[43m,\u001B[49m\n\u001B[1;32m   5087\u001B[0m \u001B[43m        \u001B[49m\u001B[43maxis\u001B[49m\u001B[38;5;241;43m=\u001B[39;49m\u001B[43maxis\u001B[49m\u001B[43m,\u001B[49m\n\u001B[1;32m   5088\u001B[0m \u001B[43m        \u001B[49m\u001B[43mcopy\u001B[49m\u001B[38;5;241;43m=\u001B[39;49m\u001B[43mcopy\u001B[49m\u001B[43m,\u001B[49m\n\u001B[1;32m   5089\u001B[0m \u001B[43m        \u001B[49m\u001B[43minplace\u001B[49m\u001B[38;5;241;43m=\u001B[39;49m\u001B[43minplace\u001B[49m\u001B[43m,\u001B[49m\n\u001B[1;32m   5090\u001B[0m \u001B[43m        \u001B[49m\u001B[43mlevel\u001B[49m\u001B[38;5;241;43m=\u001B[39;49m\u001B[43mlevel\u001B[49m\u001B[43m,\u001B[49m\n\u001B[1;32m   5091\u001B[0m \u001B[43m        \u001B[49m\u001B[43merrors\u001B[49m\u001B[38;5;241;43m=\u001B[39;49m\u001B[43merrors\u001B[49m\u001B[43m,\u001B[49m\n\u001B[1;32m   5092\u001B[0m \u001B[43m    \u001B[49m\u001B[43m)\u001B[49m\n\nFile \u001B[0;32m/databricks/python/lib/python3.9/site-packages/pandas/core/generic.py:1153\u001B[0m, in \u001B[0;36mNDFrame._rename\u001B[0;34m(self, mapper, index, columns, axis, copy, inplace, level, errors)\u001B[0m\n\u001B[1;32m   1147\u001B[0m     \u001B[38;5;28;01mif\u001B[39;00m errors \u001B[38;5;241m==\u001B[39m \u001B[38;5;124m\"\u001B[39m\u001B[38;5;124mraise\u001B[39m\u001B[38;5;124m\"\u001B[39m \u001B[38;5;129;01mand\u001B[39;00m \u001B[38;5;28mlen\u001B[39m(indexer[indexer \u001B[38;5;241m==\u001B[39m \u001B[38;5;241m-\u001B[39m\u001B[38;5;241m1\u001B[39m]):\n\u001B[1;32m   1148\u001B[0m         missing_labels \u001B[38;5;241m=\u001B[39m [\n\u001B[1;32m   1149\u001B[0m             label\n\u001B[1;32m   1150\u001B[0m             \u001B[38;5;28;01mfor\u001B[39;00m index, label \u001B[38;5;129;01min\u001B[39;00m \u001B[38;5;28menumerate\u001B[39m(replacements)\n\u001B[1;32m   1151\u001B[0m             \u001B[38;5;28;01mif\u001B[39;00m indexer[index] \u001B[38;5;241m==\u001B[39m \u001B[38;5;241m-\u001B[39m\u001B[38;5;241m1\u001B[39m\n\u001B[1;32m   1152\u001B[0m         ]\n\u001B[0;32m-> 1153\u001B[0m         \u001B[38;5;28;01mraise\u001B[39;00m \u001B[38;5;167;01mKeyError\u001B[39;00m(\u001B[38;5;124mf\u001B[39m\u001B[38;5;124m\"\u001B[39m\u001B[38;5;132;01m{\u001B[39;00mmissing_labels\u001B[38;5;132;01m}\u001B[39;00m\u001B[38;5;124m not found in axis\u001B[39m\u001B[38;5;124m\"\u001B[39m)\n\u001B[1;32m   1155\u001B[0m new_index \u001B[38;5;241m=\u001B[39m ax\u001B[38;5;241m.\u001B[39m_transform_index(f, level\u001B[38;5;241m=\u001B[39mlevel)\n\u001B[1;32m   1156\u001B[0m result\u001B[38;5;241m.\u001B[39m_set_axis_nocheck(new_index, axis\u001B[38;5;241m=\u001B[39maxis_no, inplace\u001B[38;5;241m=\u001B[39m\u001B[38;5;28;01mTrue\u001B[39;00m)\n\n\u001B[0;31mKeyError\u001B[0m: \"['Courses'] not found in axis\"",
       "errorSummary": "<span class='ansi-red-fg'>KeyError</span>: \"['Courses'] not found in axis\"",
       "errorTraceType": "ansi",
       "metadata": {},
       "type": "ipynbError"
      }
     },
     "output_type": "display_data"
    }
   ],
   "source": [
    "# Errors parameter to 'raise'.\n",
    "df2 = df.rename(columns={'Courses':'EmpCourses'}, errors='raise')\n",
    "print(df2)"
   ]
  }
 ],
 "metadata": {
  "application/vnd.databricks.v1+notebook": {
   "dashboards": [],
   "language": "python",
   "notebookMetadata": {
    "pythonIndentUnit": 4
   },
   "notebookName": "How to Change Column Name in pandas",
   "widgets": {}
  }
 },
 "nbformat": 4,
 "nbformat_minor": 0
}
